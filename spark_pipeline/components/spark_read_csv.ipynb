{
 "cells": [
  {
   "cell_type": "code",
   "execution_count": 1,
   "metadata": {},
   "outputs": [],
   "source": [
    "import mlrun\n",
    "from pyspark.sql import SparkSession\n",
    "\n",
    "def spark_read_csv(dataset: mlrun.DataItem):\n",
    "    \n",
    "    # Create MLRun context\n",
    "    with mlrun.get_or_create_ctx(\"spark\") as context:\n",
    "\n",
    "        # Build Spark session with config\n",
    "        spark = SparkSession.builder.appName(\"Spark job\")\\\n",
    "            .config(\"spark.cores.max\",\"1\")\\\n",
    "            .config(\"spark.executor.memory\",\"1g\")\\\n",
    "            .getOrCreate()\n",
    "        \n",
    "        # Get location of artifact - looks in v3io://projects directory\n",
    "        location = dataset.url.split(\"projects/\")[1]\n",
    "\n",
    "        # Read CSV\n",
    "        df = spark.read.load(location, format=\"csv\", sep=\",\", header=\"true\")\n",
    "\n",
    "        # Sample for logging\n",
    "        df_to_log = df.toPandas()\n",
    "\n",
    "        # Log CSV via MLRun experiment tracking\n",
    "        context.log_dataset(\"df_sample\", \n",
    "                            df=df_to_log,\n",
    "                            format=\"csv\", index=False,\n",
    "                            artifact_path=context.artifact_path)\n",
    "\n",
    "        spark.stop()"
   ]
  }
 ],
 "metadata": {
  "kernelspec": {
   "display_name": "Python [conda env:root] *",
   "language": "python",
   "name": "conda-root-py"
  },
  "language_info": {
   "codemirror_mode": {
    "name": "ipython",
    "version": 3
   },
   "file_extension": ".py",
   "mimetype": "text/x-python",
   "name": "python",
   "nbconvert_exporter": "python",
   "pygments_lexer": "ipython3",
   "version": "3.7.6"
  }
 },
 "nbformat": 4,
 "nbformat_minor": 4
}
