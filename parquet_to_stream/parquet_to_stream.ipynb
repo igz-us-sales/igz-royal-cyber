{
 "cells": [
  {
   "cell_type": "code",
   "execution_count": 1,
   "metadata": {},
   "outputs": [],
   "source": [
    "import json\n",
    "import pandas as pd\n",
    "import v3io.dataplane"
   ]
  },
  {
   "cell_type": "markdown",
   "metadata": {},
   "source": [
    "### Docs\n",
    "- https://github.com/v3io/v3io-py"
   ]
  },
  {
   "cell_type": "markdown",
   "metadata": {},
   "source": [
    "### Load Sample Data"
   ]
  },
  {
   "cell_type": "code",
   "execution_count": 2,
   "metadata": {},
   "outputs": [],
   "source": [
    "df = pd.read_parquet(\"data.parquet\")"
   ]
  },
  {
   "cell_type": "markdown",
   "metadata": {},
   "source": [
    "### Create V3IO Stream"
   ]
  },
  {
   "cell_type": "code",
   "execution_count": 3,
   "metadata": {},
   "outputs": [],
   "source": [
    "v3io_client = v3io.dataplane.Client()"
   ]
  },
  {
   "cell_type": "code",
   "execution_count": 4,
   "metadata": {},
   "outputs": [
    {
     "data": {
      "text/plain": [
       "<v3io.dataplane.response.Response at 0x7f42b0fc4dd0>"
      ]
     },
     "execution_count": 4,
     "metadata": {},
     "output_type": "execute_result"
    }
   ],
   "source": [
    "v3io_client.stream.create(container='bigdata',\n",
    "                          stream_path='/my-test-stream',\n",
    "                          shard_count=1,\n",
    "                          raise_for_status=[204, 409]) # 204 status = successful stream creation, 409 status = stream already exists"
   ]
  },
  {
   "cell_type": "code",
   "execution_count": 5,
   "metadata": {},
   "outputs": [
    {
     "name": "stdout",
     "output_type": "stream",
     "text": [
      "drwxrwxr-x 2   52 staff 0 Dec 14 21:39 my-test-stream\n"
     ]
    }
   ],
   "source": [
    "# Check that stream exists on file system\n",
    "!ls -la /v3io/bigdata | grep my-test-stream"
   ]
  },
  {
   "cell_type": "markdown",
   "metadata": {},
   "source": [
    "### Format Chunks in same style as Gesa\n",
    "Gesa's tables will be coming in via Kafka. The information we are interested is located under `event[\"message\"][\"data\"]`.\n",
    "\n",
    "Additionally, V3IO streams expect the outer-most key to be `data`. Therefore, we are formatting the records such that\n",
    "our actual data is located under `event[\"data\"][\"message\"][\"data\"]`. We will be feeding the stream a list of data\n",
    "formatted this way."
   ]
  },
  {
   "cell_type": "code",
   "execution_count": 6,
   "metadata": {},
   "outputs": [],
   "source": [
    "def format_records_stream_kafka(df: pd.DataFrame) -> list:\n",
    "    \"\"\"\n",
    "    Format records in correct format to simulate receiving from Kafka stream. Also\n",
    "    converts any datetime fields into strings to preserve formatting.\n",
    "    \n",
    "    :param df: Dataframe to format\n",
    "    \n",
    "    :return: Formatted records\n",
    "    \"\"\"\n",
    "    for column, dtype in df.dtypes.items():\n",
    "        # Convert datetime into string to preserve formatting\n",
    "        if dtype == \"datetime64[ns]\":\n",
    "            df[column] = df[column].astype(str)\n",
    "            \n",
    "    # V3IO stream expects a list of dicts with the key \"data\" - Kafka message starts with \"message\" key\n",
    "    return [{\"data\" : json.dumps({\"message\": {\"data\": d}})} for d in df.to_dict(orient=\"records\")]"
   ]
  },
  {
   "cell_type": "code",
   "execution_count": 7,
   "metadata": {},
   "outputs": [
    {
     "data": {
      "text/plain": [
       "{'data': '{\"message\": {\"data\": {\"sepal length (cm)\": 5.1, \"sepal width (cm)\": 3.5, \"petal length (cm)\": 1.4, \"petal width (cm)\": 0.2, \"label\": 0}}}'}"
      ]
     },
     "execution_count": 7,
     "metadata": {},
     "output_type": "execute_result"
    }
   ],
   "source": [
    "# Data formatting sample\n",
    "format_records_stream_kafka(df)[0]"
   ]
  },
  {
   "cell_type": "markdown",
   "metadata": {},
   "source": [
    "### Chunk Data into dataframes of `n` rows\n",
    "Because we will be working with a lot of data, we will need to write it into the stream in chunks. I have found that `n = 1000` is a good comproimise between size and speed - feel free to experiment."
   ]
  },
  {
   "cell_type": "code",
   "execution_count": 8,
   "metadata": {},
   "outputs": [],
   "source": [
    "# Chunk row size\n",
    "n = 1000"
   ]
  },
  {
   "cell_type": "markdown",
   "metadata": {},
   "source": [
    "### Format + Write Chunks to Stream - ACTUAL WORK"
   ]
  },
  {
   "cell_type": "code",
   "execution_count": 9,
   "metadata": {},
   "outputs": [],
   "source": [
    "chunk_df = [df[i:i+n] for i in range(0, df.shape[0], n)]\n",
    "for data in chunk_df:\n",
    "    records = format_records_stream_kafka(data)\n",
    "    v3io_client.stream.put_records(container='bigdata', stream_path='/my-test-stream', records=records)"
   ]
  },
  {
   "cell_type": "markdown",
   "metadata": {},
   "source": [
    "### Verify Stream has been Written to"
   ]
  },
  {
   "cell_type": "code",
   "execution_count": 10,
   "metadata": {},
   "outputs": [],
   "source": [
    "response = v3io_client.stream.seek(container='bigdata',\n",
    "                                   stream_path='/my-test-stream',\n",
    "                                   shard_id=0,\n",
    "                                   seek_type='EARLIEST')"
   ]
  },
  {
   "cell_type": "code",
   "execution_count": 11,
   "metadata": {},
   "outputs": [],
   "source": [
    "response = v3io_client.stream.get_records(container='bigdata',\n",
    "                                          stream_path='/my-test-stream',\n",
    "                                          shard_id=0,\n",
    "                                          location=response.output.location)"
   ]
  },
  {
   "cell_type": "code",
   "execution_count": 12,
   "metadata": {},
   "outputs": [
    {
     "name": "stdout",
     "output_type": "stream",
     "text": [
      "{\"message\": {\"data\": {\"sepal length (cm)\": 5.1, \"sepal width (cm)\": 3.5, \"petal length (cm)\": 1.4, \"petal width (cm)\": 0.2, \"label\": 0}}}\n",
      "{\"message\": {\"data\": {\"sepal length (cm)\": 4.9, \"sepal width (cm)\": 3.0, \"petal length (cm)\": 1.4, \"petal width (cm)\": 0.2, \"label\": 0}}}\n",
      "{\"message\": {\"data\": {\"sepal length (cm)\": 4.7, \"sepal width (cm)\": 3.2, \"petal length (cm)\": 1.3, \"petal width (cm)\": 0.2, \"label\": 0}}}\n",
      "{\"message\": {\"data\": {\"sepal length (cm)\": 4.6, \"sepal width (cm)\": 3.1, \"petal length (cm)\": 1.5, \"petal width (cm)\": 0.2, \"label\": 0}}}\n",
      "{\"message\": {\"data\": {\"sepal length (cm)\": 5.0, \"sepal width (cm)\": 3.6, \"petal length (cm)\": 1.4, \"petal width (cm)\": 0.2, \"label\": 0}}}\n",
      "{\"message\": {\"data\": {\"sepal length (cm)\": 5.4, \"sepal width (cm)\": 3.9, \"petal length (cm)\": 1.7, \"petal width (cm)\": 0.4, \"label\": 0}}}\n",
      "{\"message\": {\"data\": {\"sepal length (cm)\": 4.6, \"sepal width (cm)\": 3.4, \"petal length (cm)\": 1.4, \"petal width (cm)\": 0.3, \"label\": 0}}}\n",
      "{\"message\": {\"data\": {\"sepal length (cm)\": 5.0, \"sepal width (cm)\": 3.4, \"petal length (cm)\": 1.5, \"petal width (cm)\": 0.2, \"label\": 0}}}\n",
      "{\"message\": {\"data\": {\"sepal length (cm)\": 4.4, \"sepal width (cm)\": 2.9, \"petal length (cm)\": 1.4, \"petal width (cm)\": 0.2, \"label\": 0}}}\n",
      "{\"message\": {\"data\": {\"sepal length (cm)\": 4.9, \"sepal width (cm)\": 3.1, \"petal length (cm)\": 1.5, \"petal width (cm)\": 0.1, \"label\": 0}}}\n",
      "{\"message\": {\"data\": {\"sepal length (cm)\": 5.4, \"sepal width (cm)\": 3.7, \"petal length (cm)\": 1.5, \"petal width (cm)\": 0.2, \"label\": 0}}}\n",
      "{\"message\": {\"data\": {\"sepal length (cm)\": 4.8, \"sepal width (cm)\": 3.4, \"petal length (cm)\": 1.6, \"petal width (cm)\": 0.2, \"label\": 0}}}\n",
      "{\"message\": {\"data\": {\"sepal length (cm)\": 4.8, \"sepal width (cm)\": 3.0, \"petal length (cm)\": 1.4, \"petal width (cm)\": 0.1, \"label\": 0}}}\n",
      "{\"message\": {\"data\": {\"sepal length (cm)\": 4.3, \"sepal width (cm)\": 3.0, \"petal length (cm)\": 1.1, \"petal width (cm)\": 0.1, \"label\": 0}}}\n",
      "{\"message\": {\"data\": {\"sepal length (cm)\": 5.8, \"sepal width (cm)\": 4.0, \"petal length (cm)\": 1.2, \"petal width (cm)\": 0.2, \"label\": 0}}}\n",
      "{\"message\": {\"data\": {\"sepal length (cm)\": 5.7, \"sepal width (cm)\": 4.4, \"petal length (cm)\": 1.5, \"petal width (cm)\": 0.4, \"label\": 0}}}\n",
      "{\"message\": {\"data\": {\"sepal length (cm)\": 5.4, \"sepal width (cm)\": 3.9, \"petal length (cm)\": 1.3, \"petal width (cm)\": 0.4, \"label\": 0}}}\n",
      "{\"message\": {\"data\": {\"sepal length (cm)\": 5.1, \"sepal width (cm)\": 3.5, \"petal length (cm)\": 1.4, \"petal width (cm)\": 0.3, \"label\": 0}}}\n",
      "{\"message\": {\"data\": {\"sepal length (cm)\": 5.7, \"sepal width (cm)\": 3.8, \"petal length (cm)\": 1.7, \"petal width (cm)\": 0.3, \"label\": 0}}}\n",
      "{\"message\": {\"data\": {\"sepal length (cm)\": 5.1, \"sepal width (cm)\": 3.8, \"petal length (cm)\": 1.5, \"petal width (cm)\": 0.3, \"label\": 0}}}\n",
      "{\"message\": {\"data\": {\"sepal length (cm)\": 5.4, \"sepal width (cm)\": 3.4, \"petal length (cm)\": 1.7, \"petal width (cm)\": 0.2, \"label\": 0}}}\n",
      "{\"message\": {\"data\": {\"sepal length (cm)\": 5.1, \"sepal width (cm)\": 3.7, \"petal length (cm)\": 1.5, \"petal width (cm)\": 0.4, \"label\": 0}}}\n",
      "{\"message\": {\"data\": {\"sepal length (cm)\": 4.6, \"sepal width (cm)\": 3.6, \"petal length (cm)\": 1.0, \"petal width (cm)\": 0.2, \"label\": 0}}}\n",
      "{\"message\": {\"data\": {\"sepal length (cm)\": 5.1, \"sepal width (cm)\": 3.3, \"petal length (cm)\": 1.7, \"petal width (cm)\": 0.5, \"label\": 0}}}\n",
      "{\"message\": {\"data\": {\"sepal length (cm)\": 4.8, \"sepal width (cm)\": 3.4, \"petal length (cm)\": 1.9, \"petal width (cm)\": 0.2, \"label\": 0}}}\n",
      "{\"message\": {\"data\": {\"sepal length (cm)\": 5.0, \"sepal width (cm)\": 3.0, \"petal length (cm)\": 1.6, \"petal width (cm)\": 0.2, \"label\": 0}}}\n",
      "{\"message\": {\"data\": {\"sepal length (cm)\": 5.0, \"sepal width (cm)\": 3.4, \"petal length (cm)\": 1.6, \"petal width (cm)\": 0.4, \"label\": 0}}}\n",
      "{\"message\": {\"data\": {\"sepal length (cm)\": 5.2, \"sepal width (cm)\": 3.5, \"petal length (cm)\": 1.5, \"petal width (cm)\": 0.2, \"label\": 0}}}\n",
      "{\"message\": {\"data\": {\"sepal length (cm)\": 5.2, \"sepal width (cm)\": 3.4, \"petal length (cm)\": 1.4, \"petal width (cm)\": 0.2, \"label\": 0}}}\n",
      "{\"message\": {\"data\": {\"sepal length (cm)\": 4.7, \"sepal width (cm)\": 3.2, \"petal length (cm)\": 1.6, \"petal width (cm)\": 0.2, \"label\": 0}}}\n",
      "{\"message\": {\"data\": {\"sepal length (cm)\": 4.8, \"sepal width (cm)\": 3.1, \"petal length (cm)\": 1.6, \"petal width (cm)\": 0.2, \"label\": 0}}}\n",
      "{\"message\": {\"data\": {\"sepal length (cm)\": 5.4, \"sepal width (cm)\": 3.4, \"petal length (cm)\": 1.5, \"petal width (cm)\": 0.4, \"label\": 0}}}\n",
      "{\"message\": {\"data\": {\"sepal length (cm)\": 5.2, \"sepal width (cm)\": 4.1, \"petal length (cm)\": 1.5, \"petal width (cm)\": 0.1, \"label\": 0}}}\n",
      "{\"message\": {\"data\": {\"sepal length (cm)\": 5.5, \"sepal width (cm)\": 4.2, \"petal length (cm)\": 1.4, \"petal width (cm)\": 0.2, \"label\": 0}}}\n",
      "{\"message\": {\"data\": {\"sepal length (cm)\": 4.9, \"sepal width (cm)\": 3.1, \"petal length (cm)\": 1.5, \"petal width (cm)\": 0.2, \"label\": 0}}}\n",
      "{\"message\": {\"data\": {\"sepal length (cm)\": 5.0, \"sepal width (cm)\": 3.2, \"petal length (cm)\": 1.2, \"petal width (cm)\": 0.2, \"label\": 0}}}\n",
      "{\"message\": {\"data\": {\"sepal length (cm)\": 5.5, \"sepal width (cm)\": 3.5, \"petal length (cm)\": 1.3, \"petal width (cm)\": 0.2, \"label\": 0}}}\n",
      "{\"message\": {\"data\": {\"sepal length (cm)\": 4.9, \"sepal width (cm)\": 3.6, \"petal length (cm)\": 1.4, \"petal width (cm)\": 0.1, \"label\": 0}}}\n",
      "{\"message\": {\"data\": {\"sepal length (cm)\": 4.4, \"sepal width (cm)\": 3.0, \"petal length (cm)\": 1.3, \"petal width (cm)\": 0.2, \"label\": 0}}}\n",
      "{\"message\": {\"data\": {\"sepal length (cm)\": 5.1, \"sepal width (cm)\": 3.4, \"petal length (cm)\": 1.5, \"petal width (cm)\": 0.2, \"label\": 0}}}\n",
      "{\"message\": {\"data\": {\"sepal length (cm)\": 5.0, \"sepal width (cm)\": 3.5, \"petal length (cm)\": 1.3, \"petal width (cm)\": 0.3, \"label\": 0}}}\n",
      "{\"message\": {\"data\": {\"sepal length (cm)\": 4.5, \"sepal width (cm)\": 2.3, \"petal length (cm)\": 1.3, \"petal width (cm)\": 0.3, \"label\": 0}}}\n",
      "{\"message\": {\"data\": {\"sepal length (cm)\": 4.4, \"sepal width (cm)\": 3.2, \"petal length (cm)\": 1.3, \"petal width (cm)\": 0.2, \"label\": 0}}}\n",
      "{\"message\": {\"data\": {\"sepal length (cm)\": 5.0, \"sepal width (cm)\": 3.5, \"petal length (cm)\": 1.6, \"petal width (cm)\": 0.6, \"label\": 0}}}\n",
      "{\"message\": {\"data\": {\"sepal length (cm)\": 5.1, \"sepal width (cm)\": 3.8, \"petal length (cm)\": 1.9, \"petal width (cm)\": 0.4, \"label\": 0}}}\n",
      "{\"message\": {\"data\": {\"sepal length (cm)\": 4.8, \"sepal width (cm)\": 3.0, \"petal length (cm)\": 1.4, \"petal width (cm)\": 0.3, \"label\": 0}}}\n",
      "{\"message\": {\"data\": {\"sepal length (cm)\": 5.1, \"sepal width (cm)\": 3.8, \"petal length (cm)\": 1.6, \"petal width (cm)\": 0.2, \"label\": 0}}}\n",
      "{\"message\": {\"data\": {\"sepal length (cm)\": 4.6, \"sepal width (cm)\": 3.2, \"petal length (cm)\": 1.4, \"petal width (cm)\": 0.2, \"label\": 0}}}\n",
      "{\"message\": {\"data\": {\"sepal length (cm)\": 5.3, \"sepal width (cm)\": 3.7, \"petal length (cm)\": 1.5, \"petal width (cm)\": 0.2, \"label\": 0}}}\n",
      "{\"message\": {\"data\": {\"sepal length (cm)\": 5.0, \"sepal width (cm)\": 3.3, \"petal length (cm)\": 1.4, \"petal width (cm)\": 0.2, \"label\": 0}}}\n",
      "{\"message\": {\"data\": {\"sepal length (cm)\": 7.0, \"sepal width (cm)\": 3.2, \"petal length (cm)\": 4.7, \"petal width (cm)\": 1.4, \"label\": 1}}}\n",
      "{\"message\": {\"data\": {\"sepal length (cm)\": 6.4, \"sepal width (cm)\": 3.2, \"petal length (cm)\": 4.5, \"petal width (cm)\": 1.5, \"label\": 1}}}\n",
      "{\"message\": {\"data\": {\"sepal length (cm)\": 6.9, \"sepal width (cm)\": 3.1, \"petal length (cm)\": 4.9, \"petal width (cm)\": 1.5, \"label\": 1}}}\n",
      "{\"message\": {\"data\": {\"sepal length (cm)\": 5.5, \"sepal width (cm)\": 2.3, \"petal length (cm)\": 4.0, \"petal width (cm)\": 1.3, \"label\": 1}}}\n",
      "{\"message\": {\"data\": {\"sepal length (cm)\": 6.5, \"sepal width (cm)\": 2.8, \"petal length (cm)\": 4.6, \"petal width (cm)\": 1.5, \"label\": 1}}}\n",
      "{\"message\": {\"data\": {\"sepal length (cm)\": 5.7, \"sepal width (cm)\": 2.8, \"petal length (cm)\": 4.5, \"petal width (cm)\": 1.3, \"label\": 1}}}\n",
      "{\"message\": {\"data\": {\"sepal length (cm)\": 6.3, \"sepal width (cm)\": 3.3, \"petal length (cm)\": 4.7, \"petal width (cm)\": 1.6, \"label\": 1}}}\n",
      "{\"message\": {\"data\": {\"sepal length (cm)\": 4.9, \"sepal width (cm)\": 2.4, \"petal length (cm)\": 3.3, \"petal width (cm)\": 1.0, \"label\": 1}}}\n",
      "{\"message\": {\"data\": {\"sepal length (cm)\": 6.6, \"sepal width (cm)\": 2.9, \"petal length (cm)\": 4.6, \"petal width (cm)\": 1.3, \"label\": 1}}}\n",
      "{\"message\": {\"data\": {\"sepal length (cm)\": 5.2, \"sepal width (cm)\": 2.7, \"petal length (cm)\": 3.9, \"petal width (cm)\": 1.4, \"label\": 1}}}\n",
      "{\"message\": {\"data\": {\"sepal length (cm)\": 5.0, \"sepal width (cm)\": 2.0, \"petal length (cm)\": 3.5, \"petal width (cm)\": 1.0, \"label\": 1}}}\n",
      "{\"message\": {\"data\": {\"sepal length (cm)\": 5.9, \"sepal width (cm)\": 3.0, \"petal length (cm)\": 4.2, \"petal width (cm)\": 1.5, \"label\": 1}}}\n",
      "{\"message\": {\"data\": {\"sepal length (cm)\": 6.0, \"sepal width (cm)\": 2.2, \"petal length (cm)\": 4.0, \"petal width (cm)\": 1.0, \"label\": 1}}}\n",
      "{\"message\": {\"data\": {\"sepal length (cm)\": 6.1, \"sepal width (cm)\": 2.9, \"petal length (cm)\": 4.7, \"petal width (cm)\": 1.4, \"label\": 1}}}\n",
      "{\"message\": {\"data\": {\"sepal length (cm)\": 5.6, \"sepal width (cm)\": 2.9, \"petal length (cm)\": 3.6, \"petal width (cm)\": 1.3, \"label\": 1}}}\n",
      "{\"message\": {\"data\": {\"sepal length (cm)\": 6.7, \"sepal width (cm)\": 3.1, \"petal length (cm)\": 4.4, \"petal width (cm)\": 1.4, \"label\": 1}}}\n",
      "{\"message\": {\"data\": {\"sepal length (cm)\": 5.6, \"sepal width (cm)\": 3.0, \"petal length (cm)\": 4.5, \"petal width (cm)\": 1.5, \"label\": 1}}}\n",
      "{\"message\": {\"data\": {\"sepal length (cm)\": 5.8, \"sepal width (cm)\": 2.7, \"petal length (cm)\": 4.1, \"petal width (cm)\": 1.0, \"label\": 1}}}\n",
      "{\"message\": {\"data\": {\"sepal length (cm)\": 6.2, \"sepal width (cm)\": 2.2, \"petal length (cm)\": 4.5, \"petal width (cm)\": 1.5, \"label\": 1}}}\n",
      "{\"message\": {\"data\": {\"sepal length (cm)\": 5.6, \"sepal width (cm)\": 2.5, \"petal length (cm)\": 3.9, \"petal width (cm)\": 1.1, \"label\": 1}}}\n",
      "{\"message\": {\"data\": {\"sepal length (cm)\": 5.9, \"sepal width (cm)\": 3.2, \"petal length (cm)\": 4.8, \"petal width (cm)\": 1.8, \"label\": 1}}}\n",
      "{\"message\": {\"data\": {\"sepal length (cm)\": 6.1, \"sepal width (cm)\": 2.8, \"petal length (cm)\": 4.0, \"petal width (cm)\": 1.3, \"label\": 1}}}\n",
      "{\"message\": {\"data\": {\"sepal length (cm)\": 6.3, \"sepal width (cm)\": 2.5, \"petal length (cm)\": 4.9, \"petal width (cm)\": 1.5, \"label\": 1}}}\n",
      "{\"message\": {\"data\": {\"sepal length (cm)\": 6.1, \"sepal width (cm)\": 2.8, \"petal length (cm)\": 4.7, \"petal width (cm)\": 1.2, \"label\": 1}}}\n",
      "{\"message\": {\"data\": {\"sepal length (cm)\": 6.4, \"sepal width (cm)\": 2.9, \"petal length (cm)\": 4.3, \"petal width (cm)\": 1.3, \"label\": 1}}}\n",
      "{\"message\": {\"data\": {\"sepal length (cm)\": 6.6, \"sepal width (cm)\": 3.0, \"petal length (cm)\": 4.4, \"petal width (cm)\": 1.4, \"label\": 1}}}\n",
      "{\"message\": {\"data\": {\"sepal length (cm)\": 6.8, \"sepal width (cm)\": 2.8, \"petal length (cm)\": 4.8, \"petal width (cm)\": 1.4, \"label\": 1}}}\n",
      "{\"message\": {\"data\": {\"sepal length (cm)\": 6.7, \"sepal width (cm)\": 3.0, \"petal length (cm)\": 5.0, \"petal width (cm)\": 1.7, \"label\": 1}}}\n",
      "{\"message\": {\"data\": {\"sepal length (cm)\": 6.0, \"sepal width (cm)\": 2.9, \"petal length (cm)\": 4.5, \"petal width (cm)\": 1.5, \"label\": 1}}}\n",
      "{\"message\": {\"data\": {\"sepal length (cm)\": 5.7, \"sepal width (cm)\": 2.6, \"petal length (cm)\": 3.5, \"petal width (cm)\": 1.0, \"label\": 1}}}\n",
      "{\"message\": {\"data\": {\"sepal length (cm)\": 5.5, \"sepal width (cm)\": 2.4, \"petal length (cm)\": 3.8, \"petal width (cm)\": 1.1, \"label\": 1}}}\n",
      "{\"message\": {\"data\": {\"sepal length (cm)\": 5.5, \"sepal width (cm)\": 2.4, \"petal length (cm)\": 3.7, \"petal width (cm)\": 1.0, \"label\": 1}}}\n",
      "{\"message\": {\"data\": {\"sepal length (cm)\": 5.8, \"sepal width (cm)\": 2.7, \"petal length (cm)\": 3.9, \"petal width (cm)\": 1.2, \"label\": 1}}}\n",
      "{\"message\": {\"data\": {\"sepal length (cm)\": 6.0, \"sepal width (cm)\": 2.7, \"petal length (cm)\": 5.1, \"petal width (cm)\": 1.6, \"label\": 1}}}\n",
      "{\"message\": {\"data\": {\"sepal length (cm)\": 5.4, \"sepal width (cm)\": 3.0, \"petal length (cm)\": 4.5, \"petal width (cm)\": 1.5, \"label\": 1}}}\n",
      "{\"message\": {\"data\": {\"sepal length (cm)\": 6.0, \"sepal width (cm)\": 3.4, \"petal length (cm)\": 4.5, \"petal width (cm)\": 1.6, \"label\": 1}}}\n",
      "{\"message\": {\"data\": {\"sepal length (cm)\": 6.7, \"sepal width (cm)\": 3.1, \"petal length (cm)\": 4.7, \"petal width (cm)\": 1.5, \"label\": 1}}}\n",
      "{\"message\": {\"data\": {\"sepal length (cm)\": 6.3, \"sepal width (cm)\": 2.3, \"petal length (cm)\": 4.4, \"petal width (cm)\": 1.3, \"label\": 1}}}\n",
      "{\"message\": {\"data\": {\"sepal length (cm)\": 5.6, \"sepal width (cm)\": 3.0, \"petal length (cm)\": 4.1, \"petal width (cm)\": 1.3, \"label\": 1}}}\n",
      "{\"message\": {\"data\": {\"sepal length (cm)\": 5.5, \"sepal width (cm)\": 2.5, \"petal length (cm)\": 4.0, \"petal width (cm)\": 1.3, \"label\": 1}}}\n",
      "{\"message\": {\"data\": {\"sepal length (cm)\": 5.5, \"sepal width (cm)\": 2.6, \"petal length (cm)\": 4.4, \"petal width (cm)\": 1.2, \"label\": 1}}}\n",
      "{\"message\": {\"data\": {\"sepal length (cm)\": 6.1, \"sepal width (cm)\": 3.0, \"petal length (cm)\": 4.6, \"petal width (cm)\": 1.4, \"label\": 1}}}\n",
      "{\"message\": {\"data\": {\"sepal length (cm)\": 5.8, \"sepal width (cm)\": 2.6, \"petal length (cm)\": 4.0, \"petal width (cm)\": 1.2, \"label\": 1}}}\n",
      "{\"message\": {\"data\": {\"sepal length (cm)\": 5.0, \"sepal width (cm)\": 2.3, \"petal length (cm)\": 3.3, \"petal width (cm)\": 1.0, \"label\": 1}}}\n",
      "{\"message\": {\"data\": {\"sepal length (cm)\": 5.6, \"sepal width (cm)\": 2.7, \"petal length (cm)\": 4.2, \"petal width (cm)\": 1.3, \"label\": 1}}}\n",
      "{\"message\": {\"data\": {\"sepal length (cm)\": 5.7, \"sepal width (cm)\": 3.0, \"petal length (cm)\": 4.2, \"petal width (cm)\": 1.2, \"label\": 1}}}\n",
      "{\"message\": {\"data\": {\"sepal length (cm)\": 5.7, \"sepal width (cm)\": 2.9, \"petal length (cm)\": 4.2, \"petal width (cm)\": 1.3, \"label\": 1}}}\n",
      "{\"message\": {\"data\": {\"sepal length (cm)\": 6.2, \"sepal width (cm)\": 2.9, \"petal length (cm)\": 4.3, \"petal width (cm)\": 1.3, \"label\": 1}}}\n",
      "{\"message\": {\"data\": {\"sepal length (cm)\": 5.1, \"sepal width (cm)\": 2.5, \"petal length (cm)\": 3.0, \"petal width (cm)\": 1.1, \"label\": 1}}}\n",
      "{\"message\": {\"data\": {\"sepal length (cm)\": 5.7, \"sepal width (cm)\": 2.8, \"petal length (cm)\": 4.1, \"petal width (cm)\": 1.3, \"label\": 1}}}\n",
      "{\"message\": {\"data\": {\"sepal length (cm)\": 6.3, \"sepal width (cm)\": 3.3, \"petal length (cm)\": 6.0, \"petal width (cm)\": 2.5, \"label\": 2}}}\n",
      "{\"message\": {\"data\": {\"sepal length (cm)\": 5.8, \"sepal width (cm)\": 2.7, \"petal length (cm)\": 5.1, \"petal width (cm)\": 1.9, \"label\": 2}}}\n",
      "{\"message\": {\"data\": {\"sepal length (cm)\": 7.1, \"sepal width (cm)\": 3.0, \"petal length (cm)\": 5.9, \"petal width (cm)\": 2.1, \"label\": 2}}}\n",
      "{\"message\": {\"data\": {\"sepal length (cm)\": 6.3, \"sepal width (cm)\": 2.9, \"petal length (cm)\": 5.6, \"petal width (cm)\": 1.8, \"label\": 2}}}\n",
      "{\"message\": {\"data\": {\"sepal length (cm)\": 6.5, \"sepal width (cm)\": 3.0, \"petal length (cm)\": 5.8, \"petal width (cm)\": 2.2, \"label\": 2}}}\n",
      "{\"message\": {\"data\": {\"sepal length (cm)\": 7.6, \"sepal width (cm)\": 3.0, \"petal length (cm)\": 6.6, \"petal width (cm)\": 2.1, \"label\": 2}}}\n",
      "{\"message\": {\"data\": {\"sepal length (cm)\": 4.9, \"sepal width (cm)\": 2.5, \"petal length (cm)\": 4.5, \"petal width (cm)\": 1.7, \"label\": 2}}}\n",
      "{\"message\": {\"data\": {\"sepal length (cm)\": 7.3, \"sepal width (cm)\": 2.9, \"petal length (cm)\": 6.3, \"petal width (cm)\": 1.8, \"label\": 2}}}\n",
      "{\"message\": {\"data\": {\"sepal length (cm)\": 6.7, \"sepal width (cm)\": 2.5, \"petal length (cm)\": 5.8, \"petal width (cm)\": 1.8, \"label\": 2}}}\n",
      "{\"message\": {\"data\": {\"sepal length (cm)\": 7.2, \"sepal width (cm)\": 3.6, \"petal length (cm)\": 6.1, \"petal width (cm)\": 2.5, \"label\": 2}}}\n",
      "{\"message\": {\"data\": {\"sepal length (cm)\": 6.5, \"sepal width (cm)\": 3.2, \"petal length (cm)\": 5.1, \"petal width (cm)\": 2.0, \"label\": 2}}}\n",
      "{\"message\": {\"data\": {\"sepal length (cm)\": 6.4, \"sepal width (cm)\": 2.7, \"petal length (cm)\": 5.3, \"petal width (cm)\": 1.9, \"label\": 2}}}\n",
      "{\"message\": {\"data\": {\"sepal length (cm)\": 6.8, \"sepal width (cm)\": 3.0, \"petal length (cm)\": 5.5, \"petal width (cm)\": 2.1, \"label\": 2}}}\n",
      "{\"message\": {\"data\": {\"sepal length (cm)\": 5.7, \"sepal width (cm)\": 2.5, \"petal length (cm)\": 5.0, \"petal width (cm)\": 2.0, \"label\": 2}}}\n",
      "{\"message\": {\"data\": {\"sepal length (cm)\": 5.8, \"sepal width (cm)\": 2.8, \"petal length (cm)\": 5.1, \"petal width (cm)\": 2.4, \"label\": 2}}}\n",
      "{\"message\": {\"data\": {\"sepal length (cm)\": 6.4, \"sepal width (cm)\": 3.2, \"petal length (cm)\": 5.3, \"petal width (cm)\": 2.3, \"label\": 2}}}\n",
      "{\"message\": {\"data\": {\"sepal length (cm)\": 6.5, \"sepal width (cm)\": 3.0, \"petal length (cm)\": 5.5, \"petal width (cm)\": 1.8, \"label\": 2}}}\n",
      "{\"message\": {\"data\": {\"sepal length (cm)\": 7.7, \"sepal width (cm)\": 3.8, \"petal length (cm)\": 6.7, \"petal width (cm)\": 2.2, \"label\": 2}}}\n",
      "{\"message\": {\"data\": {\"sepal length (cm)\": 7.7, \"sepal width (cm)\": 2.6, \"petal length (cm)\": 6.9, \"petal width (cm)\": 2.3, \"label\": 2}}}\n",
      "{\"message\": {\"data\": {\"sepal length (cm)\": 6.0, \"sepal width (cm)\": 2.2, \"petal length (cm)\": 5.0, \"petal width (cm)\": 1.5, \"label\": 2}}}\n",
      "{\"message\": {\"data\": {\"sepal length (cm)\": 6.9, \"sepal width (cm)\": 3.2, \"petal length (cm)\": 5.7, \"petal width (cm)\": 2.3, \"label\": 2}}}\n",
      "{\"message\": {\"data\": {\"sepal length (cm)\": 5.6, \"sepal width (cm)\": 2.8, \"petal length (cm)\": 4.9, \"petal width (cm)\": 2.0, \"label\": 2}}}\n",
      "{\"message\": {\"data\": {\"sepal length (cm)\": 7.7, \"sepal width (cm)\": 2.8, \"petal length (cm)\": 6.7, \"petal width (cm)\": 2.0, \"label\": 2}}}\n",
      "{\"message\": {\"data\": {\"sepal length (cm)\": 6.3, \"sepal width (cm)\": 2.7, \"petal length (cm)\": 4.9, \"petal width (cm)\": 1.8, \"label\": 2}}}\n",
      "{\"message\": {\"data\": {\"sepal length (cm)\": 6.7, \"sepal width (cm)\": 3.3, \"petal length (cm)\": 5.7, \"petal width (cm)\": 2.1, \"label\": 2}}}\n",
      "{\"message\": {\"data\": {\"sepal length (cm)\": 7.2, \"sepal width (cm)\": 3.2, \"petal length (cm)\": 6.0, \"petal width (cm)\": 1.8, \"label\": 2}}}\n",
      "{\"message\": {\"data\": {\"sepal length (cm)\": 6.2, \"sepal width (cm)\": 2.8, \"petal length (cm)\": 4.8, \"petal width (cm)\": 1.8, \"label\": 2}}}\n",
      "{\"message\": {\"data\": {\"sepal length (cm)\": 6.1, \"sepal width (cm)\": 3.0, \"petal length (cm)\": 4.9, \"petal width (cm)\": 1.8, \"label\": 2}}}\n",
      "{\"message\": {\"data\": {\"sepal length (cm)\": 6.4, \"sepal width (cm)\": 2.8, \"petal length (cm)\": 5.6, \"petal width (cm)\": 2.1, \"label\": 2}}}\n",
      "{\"message\": {\"data\": {\"sepal length (cm)\": 7.2, \"sepal width (cm)\": 3.0, \"petal length (cm)\": 5.8, \"petal width (cm)\": 1.6, \"label\": 2}}}\n",
      "{\"message\": {\"data\": {\"sepal length (cm)\": 7.4, \"sepal width (cm)\": 2.8, \"petal length (cm)\": 6.1, \"petal width (cm)\": 1.9, \"label\": 2}}}\n",
      "{\"message\": {\"data\": {\"sepal length (cm)\": 7.9, \"sepal width (cm)\": 3.8, \"petal length (cm)\": 6.4, \"petal width (cm)\": 2.0, \"label\": 2}}}\n",
      "{\"message\": {\"data\": {\"sepal length (cm)\": 6.4, \"sepal width (cm)\": 2.8, \"petal length (cm)\": 5.6, \"petal width (cm)\": 2.2, \"label\": 2}}}\n",
      "{\"message\": {\"data\": {\"sepal length (cm)\": 6.3, \"sepal width (cm)\": 2.8, \"petal length (cm)\": 5.1, \"petal width (cm)\": 1.5, \"label\": 2}}}\n",
      "{\"message\": {\"data\": {\"sepal length (cm)\": 6.1, \"sepal width (cm)\": 2.6, \"petal length (cm)\": 5.6, \"petal width (cm)\": 1.4, \"label\": 2}}}\n",
      "{\"message\": {\"data\": {\"sepal length (cm)\": 7.7, \"sepal width (cm)\": 3.0, \"petal length (cm)\": 6.1, \"petal width (cm)\": 2.3, \"label\": 2}}}\n",
      "{\"message\": {\"data\": {\"sepal length (cm)\": 6.3, \"sepal width (cm)\": 3.4, \"petal length (cm)\": 5.6, \"petal width (cm)\": 2.4, \"label\": 2}}}\n",
      "{\"message\": {\"data\": {\"sepal length (cm)\": 6.4, \"sepal width (cm)\": 3.1, \"petal length (cm)\": 5.5, \"petal width (cm)\": 1.8, \"label\": 2}}}\n",
      "{\"message\": {\"data\": {\"sepal length (cm)\": 6.0, \"sepal width (cm)\": 3.0, \"petal length (cm)\": 4.8, \"petal width (cm)\": 1.8, \"label\": 2}}}\n",
      "{\"message\": {\"data\": {\"sepal length (cm)\": 6.9, \"sepal width (cm)\": 3.1, \"petal length (cm)\": 5.4, \"petal width (cm)\": 2.1, \"label\": 2}}}\n",
      "{\"message\": {\"data\": {\"sepal length (cm)\": 6.7, \"sepal width (cm)\": 3.1, \"petal length (cm)\": 5.6, \"petal width (cm)\": 2.4, \"label\": 2}}}\n",
      "{\"message\": {\"data\": {\"sepal length (cm)\": 6.9, \"sepal width (cm)\": 3.1, \"petal length (cm)\": 5.1, \"petal width (cm)\": 2.3, \"label\": 2}}}\n",
      "{\"message\": {\"data\": {\"sepal length (cm)\": 5.8, \"sepal width (cm)\": 2.7, \"petal length (cm)\": 5.1, \"petal width (cm)\": 1.9, \"label\": 2}}}\n",
      "{\"message\": {\"data\": {\"sepal length (cm)\": 6.8, \"sepal width (cm)\": 3.2, \"petal length (cm)\": 5.9, \"petal width (cm)\": 2.3, \"label\": 2}}}\n",
      "{\"message\": {\"data\": {\"sepal length (cm)\": 6.7, \"sepal width (cm)\": 3.3, \"petal length (cm)\": 5.7, \"petal width (cm)\": 2.5, \"label\": 2}}}\n",
      "{\"message\": {\"data\": {\"sepal length (cm)\": 6.7, \"sepal width (cm)\": 3.0, \"petal length (cm)\": 5.2, \"petal width (cm)\": 2.3, \"label\": 2}}}\n",
      "{\"message\": {\"data\": {\"sepal length (cm)\": 6.3, \"sepal width (cm)\": 2.5, \"petal length (cm)\": 5.0, \"petal width (cm)\": 1.9, \"label\": 2}}}\n",
      "{\"message\": {\"data\": {\"sepal length (cm)\": 6.5, \"sepal width (cm)\": 3.0, \"petal length (cm)\": 5.2, \"petal width (cm)\": 2.0, \"label\": 2}}}\n",
      "{\"message\": {\"data\": {\"sepal length (cm)\": 6.2, \"sepal width (cm)\": 3.4, \"petal length (cm)\": 5.4, \"petal width (cm)\": 2.3, \"label\": 2}}}\n",
      "{\"message\": {\"data\": {\"sepal length (cm)\": 5.9, \"sepal width (cm)\": 3.0, \"petal length (cm)\": 5.1, \"petal width (cm)\": 1.8, \"label\": 2}}}\n"
     ]
    }
   ],
   "source": [
    "for record in response.output.records:\n",
    "    print(record.data.decode('utf-8'))"
   ]
  },
  {
   "cell_type": "markdown",
   "metadata": {},
   "source": [
    "### Clean Up"
   ]
  },
  {
   "cell_type": "code",
   "execution_count": 13,
   "metadata": {},
   "outputs": [
    {
     "data": {
      "text/plain": [
       "<v3io.dataplane.response.Response at 0x7f430548ad10>"
      ]
     },
     "execution_count": 13,
     "metadata": {},
     "output_type": "execute_result"
    }
   ],
   "source": [
    "v3io_client.stream.delete(container='bigdata', stream_path='/my-test-stream')"
   ]
  },
  {
   "cell_type": "code",
   "execution_count": null,
   "metadata": {},
   "outputs": [],
   "source": []
  }
 ],
 "metadata": {
  "kernelspec": {
   "display_name": "Python [conda env:root] *",
   "language": "python",
   "name": "conda-root-py"
  },
  "language_info": {
   "codemirror_mode": {
    "name": "ipython",
    "version": 3
   },
   "file_extension": ".py",
   "mimetype": "text/x-python",
   "name": "python",
   "nbconvert_exporter": "python",
   "pygments_lexer": "ipython3",
   "version": "3.7.6"
  }
 },
 "nbformat": 4,
 "nbformat_minor": 4
}
