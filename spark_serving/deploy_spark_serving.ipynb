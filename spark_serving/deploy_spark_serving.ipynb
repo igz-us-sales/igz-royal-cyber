{
 "cells": [
  {
   "cell_type": "code",
   "execution_count": 3,
   "metadata": {},
   "outputs": [],
   "source": [
    "from mlrun.config import config\n",
    "from mlrun import code_to_function, auto_mount\n",
    "import requests"
   ]
  },
  {
   "cell_type": "markdown",
   "metadata": {},
   "source": [
    "### Update Model Path\n",
    "The `/User` directory is automatically mapped to your home directory. If you are the `admin` user, this will be equivalent to `/v3io/users/admin`. Because of how Nuclio is reading from the file-system, we need to use this format. You can run `pwd` in your notebook to get the required path (assuming your model is in the same directory as your notebook)."
   ]
  },
  {
   "cell_type": "code",
   "execution_count": 4,
   "metadata": {},
   "outputs": [
    {
     "name": "stdout",
     "output_type": "stream",
     "text": [
      "/User/igz_repos/igz-royal-cyber/spark_serving\n"
     ]
    }
   ],
   "source": [
    "!pwd"
   ]
  },
  {
   "cell_type": "code",
   "execution_count": 5,
   "metadata": {},
   "outputs": [],
   "source": [
    "MODEL_PATH = \"file:///User/igz_repos/igz-royal-cyber/spark_serving/sampleModel\""
   ]
  },
  {
   "cell_type": "markdown",
   "metadata": {},
   "source": [
    "### Configure Nuclio Function"
   ]
  },
  {
   "cell_type": "code",
   "execution_count": 6,
   "metadata": {},
   "outputs": [],
   "source": [
    "def get_spark_image():\n",
    "    app_image = config.spark_app_image.replace(\"spark-app\", \"shell\")\n",
    "    image_tag = config.spark_app_image_tag\n",
    "    return f\"{app_image}:{image_tag}\""
   ]
  },
  {
   "cell_type": "code",
   "execution_count": 7,
   "metadata": {},
   "outputs": [
    {
     "data": {
      "text/plain": [
       "<mlrun.runtimes.function.RemoteRuntime at 0x7fda6960fb90>"
      ]
     },
     "execution_count": 7,
     "metadata": {},
     "output_type": "execute_result"
    }
   ],
   "source": [
    "serving_fn = code_to_function(\n",
    "    name='spark-serving',\n",
    "    project=\"spark-pipeline\",\n",
    "    filename=\"spark_serving.py\",\n",
    "    kind='nuclio',\n",
    "    handler=\"handler\",\n",
    "    requirements=[\"pyspark\", \"numpy\", \"pandas\"],\n",
    "    image=get_spark_image(),\n",
    ").apply(auto_mount())\n",
    "\n",
    "# Disable auto-scaling\n",
    "serving_fn.spec.min_replicas = 1\n",
    "serving_fn.spec.max_replicas = 1\n",
    "\n",
    "# Specify CPU resources\n",
    "serving_fn.with_requests(cpu=1)\n",
    "serving_fn.with_limits(cpu=1)\n",
    "\n",
    "# Set model path as ENV var\n",
    "serving_fn.set_env(\"MODEL_PATH\", MODEL_PATH)"
   ]
  },
  {
   "cell_type": "markdown",
   "metadata": {},
   "source": [
    "### Deploy Nuclio Function"
   ]
  },
  {
   "cell_type": "code",
   "execution_count": 8,
   "metadata": {},
   "outputs": [
    {
     "name": "stdout",
     "output_type": "stream",
     "text": [
      "> 2021-12-15 19:52:12,383 [info] Starting remote function deploy\n",
      "2021-12-15 19:52:12  (info) Deploying function\n",
      "2021-12-15 19:52:12  (info) Building\n",
      "2021-12-15 19:52:12  (info) Staging files and preparing base images\n",
      "2021-12-15 19:52:12  (info) Building processor image\n",
      "2021-12-15 19:52:14  (info) Build complete\n",
      "2021-12-15 19:52:39  (info) Function deploy complete\n",
      "> 2021-12-15 19:52:40,352 [info] successfully deployed function: {'internal_invocation_urls': ['nuclio-spark-pipeline-spark-serving.default-tenant.svc.cluster.local:8080'], 'external_invocation_urls': ['spark-pipeline-spark-serving-spark-pipeline.default-tenant.app.us-sales-32.iguazio-cd0.com/']}\n"
     ]
    }
   ],
   "source": [
    "url = serving_fn.deploy()"
   ]
  },
  {
   "cell_type": "markdown",
   "metadata": {},
   "source": [
    "### Invoke Nuclio Function"
   ]
  },
  {
   "cell_type": "code",
   "execution_count": 9,
   "metadata": {},
   "outputs": [],
   "source": [
    "data = {'param1': -133144.09, 'param2': 1.0, 'param3': 0.0}"
   ]
  },
  {
   "cell_type": "markdown",
   "metadata": {},
   "source": [
    "##### Via MLRun Function Object"
   ]
  },
  {
   "cell_type": "code",
   "execution_count": 11,
   "metadata": {},
   "outputs": [
    {
     "name": "stdout",
     "output_type": "stream",
     "text": [
      "> 2021-12-15 19:52:48,031 [info] invoking function: {'method': 'POST', 'path': 'http://nuclio-spark-pipeline-spark-serving.default-tenant.svc.cluster.local:8080/'}\n",
      "CPU times: user 12.8 ms, sys: 0 ns, total: 12.8 ms\n",
      "Wall time: 397 ms\n"
     ]
    },
    {
     "data": {
      "text/plain": [
       "b'{\"features\":{\"type\":1,\"values\":[-133144.09,1.0,0.0]},\"rawPrediction\":{\"type\":1,\"values\":[19.993485318561074,0.00651468143892579]},\"probability\":{\"type\":1,\"values\":[0.9996742659280538,3.257340719462895E-4]},\"prediction\":0.0}'"
      ]
     },
     "execution_count": 11,
     "metadata": {},
     "output_type": "execute_result"
    }
   ],
   "source": [
    "%%time\n",
    "serving_fn.invoke(\"/\", body=data)"
   ]
  },
  {
   "cell_type": "markdown",
   "metadata": {},
   "source": [
    "##### Via Post Request"
   ]
  },
  {
   "cell_type": "code",
   "execution_count": 12,
   "metadata": {},
   "outputs": [
    {
     "name": "stdout",
     "output_type": "stream",
     "text": [
      "http://spark-pipeline-spark-serving-spark-pipeline.default-tenant.app.us-sales-32.iguazio-cd0.com/\n"
     ]
    }
   ],
   "source": [
    "print(url)"
   ]
  },
  {
   "cell_type": "code",
   "execution_count": 13,
   "metadata": {},
   "outputs": [
    {
     "name": "stdout",
     "output_type": "stream",
     "text": [
      "CPU times: user 11.7 ms, sys: 0 ns, total: 11.7 ms\n",
      "Wall time: 468 ms\n"
     ]
    },
    {
     "data": {
      "text/plain": [
       "{'features': {'type': 1, 'values': [-133144.09, 1.0, 0.0]},\n",
       " 'rawPrediction': {'type': 1,\n",
       "  'values': [19.993485318561074, 0.00651468143892579]},\n",
       " 'probability': {'type': 1,\n",
       "  'values': [0.9996742659280538, 0.0003257340719462895]},\n",
       " 'prediction': 0.0}"
      ]
     },
     "execution_count": 13,
     "metadata": {},
     "output_type": "execute_result"
    }
   ],
   "source": [
    "%%time\n",
    "resp = requests.post(url=url, json=data)\n",
    "resp.json()"
   ]
  }
 ],
 "metadata": {
  "kernelspec": {
   "display_name": "Python 3",
   "language": "python",
   "name": "python3"
  },
  "language_info": {
   "codemirror_mode": {
    "name": "ipython",
    "version": 3
   },
   "file_extension": ".py",
   "mimetype": "text/x-python",
   "name": "python",
   "nbconvert_exporter": "python",
   "pygments_lexer": "ipython3",
   "version": "3.7.6"
  }
 },
 "nbformat": 4,
 "nbformat_minor": 4
}
