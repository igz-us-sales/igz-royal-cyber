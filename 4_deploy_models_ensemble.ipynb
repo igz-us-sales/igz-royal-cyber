{
 "cells": [
  {
   "cell_type": "code",
   "execution_count": 1,
   "metadata": {},
   "outputs": [],
   "source": [
    "# mlrun: start-code"
   ]
  },
  {
   "cell_type": "code",
   "execution_count": 2,
   "metadata": {},
   "outputs": [],
   "source": [
    "from cloudpickle import load\n",
    "import numpy as np\n",
    "from typing import List\n",
    "import mlrun\n",
    "\n",
    "class ClassifierModel(mlrun.serving.V2ModelServer):\n",
    "    def load(self):\n",
    "        \"\"\"load and initialize the model and/or other elements\"\"\"\n",
    "        model_file, extra_data = self.get_model('.pkl')\n",
    "        self.model = load(open(model_file, 'rb'))\n",
    "\n",
    "    def predict(self, body: dict) -> List:\n",
    "        \"\"\"Generate model predictions from sample.\"\"\"\n",
    "        feats = np.asarray(body['inputs'])\n",
    "        result: np.ndarray = self.model.predict(feats)\n",
    "        return result.tolist()"
   ]
  },
  {
   "cell_type": "code",
   "execution_count": 3,
   "metadata": {},
   "outputs": [],
   "source": [
    "# mlrun: end-code"
   ]
  },
  {
   "cell_type": "code",
   "execution_count": 4,
   "metadata": {},
   "outputs": [
    {
     "data": {
      "text/plain": [
       "<mlrun.serving.states.TaskStep at 0x7f28a534d690>"
      ]
     },
     "execution_count": 4,
     "metadata": {},
     "output_type": "execute_result"
    }
   ],
   "source": [
    "from mlrun import code_to_function, auto_mount\n",
    "\n",
    "serving_fn = code_to_function(\n",
    "    name='model-server-ensemble',\n",
    "    project=\"royal-cyber\",\n",
    "    kind='serving',\n",
    "    image='mlrun/mlrun'\n",
    ").apply(auto_mount())\n",
    "\n",
    "serving_fn.spec.default_class = 'ClassifierModel'\n",
    "serving_fn.set_topology('router', 'mlrun.serving.VotingEnsemble')\n",
    "\n",
    "serving_fn.add_model('lr', model_path=\"store://models/royal-cyber/my-training-job-tracking-main_LogisticRegression_model#0:latest@32c8cd1816a14b5eb49d99ab92521b08\")\n",
    "serving_fn.add_model('rf', model_path=\"store://models/royal-cyber/my-training-job-tracking-main_RandomForestClassifier_model#0:latest@32c8cd1816a14b5eb49d99ab92521b08\")"
   ]
  },
  {
   "cell_type": "code",
   "execution_count": 5,
   "metadata": {},
   "outputs": [
    {
     "name": "stdout",
     "output_type": "stream",
     "text": [
      "> 2021-08-20 23:11:17,945 [info] Starting remote function deploy\n",
      "2021-08-20 23:11:18  (info) Deploying function\n",
      "2021-08-20 23:11:18  (info) Building\n",
      "2021-08-20 23:11:18  (info) Staging files and preparing base images\n",
      "2021-08-20 23:11:18  (info) Building processor image\n",
      "2021-08-20 23:11:19  (info) Build complete\n",
      "2021-08-20 23:11:27  (info) Function deploy complete\n",
      "> 2021-08-20 23:11:28,474 [info] function deployed, address=default-tenant.app.us-sales-eks.iguazio-cd0.com:32765\n"
     ]
    }
   ],
   "source": [
    "function_address = serving_fn.deploy()"
   ]
  },
  {
   "cell_type": "code",
   "execution_count": 6,
   "metadata": {},
   "outputs": [
    {
     "data": {
      "text/plain": [
       "'{\"inputs\": [[5.1, 3.5, 1.4, 0.2], [7.7, 3.8, 6.7, 2.2]]}'"
      ]
     },
     "execution_count": 6,
     "metadata": {},
     "output_type": "execute_result"
    }
   ],
   "source": [
    "import json\n",
    "import requests\n",
    "\n",
    "X_test = [[5.1, 3.5, 1.4, 0.2],[7.7, 3.8, 6.7, 2.2]]\n",
    "data = json.dumps({\"inputs\" : X_test})\n",
    "data"
   ]
  },
  {
   "cell_type": "code",
   "execution_count": 7,
   "metadata": {},
   "outputs": [
    {
     "name": "stdout",
     "output_type": "stream",
     "text": [
      "{'id': '97d299c0-6d67-4cf3-8b0d-ec058f43b0ea', 'model_name': 'lr', 'outputs': [0, 2]}\n",
      "{'id': '9c2cff8a-4bd2-4004-9eb6-f0cf6fec7d25', 'model_name': 'lr', 'outputs': [0, 2]}\n",
      "{'id': 'cb9d4101-16b3-4dd4-bc7a-310bc39fe081', 'model_name': 'rf', 'outputs': [0, 2]}\n",
      "{'id': '2c30b57f-4f1a-4186-b562-cfb97609580d', 'model_name': 'rf', 'outputs': [0, 2]}\n",
      "{'id': '7d1c63ba-eb58-4799-a642-da8701faed54', 'model_name': [0, 2], 'outputs': [0, 2], 'model_version': 'v1'}\n",
      "{'id': '5a7158c4-dae8-4681-967a-183ea75b6823', 'model_name': [0, 2], 'outputs': [0, 2], 'model_version': 'v1'}\n"
     ]
    }
   ],
   "source": [
    "for model in [\"lr\", \"rf\", \"VotingEnsemble\"]:\n",
    "    # Inference via serving function\n",
    "    print(serving_fn.invoke(f'/v2/models/{model}/infer', data))\n",
    "    \n",
    "    # Inference via HTTP post request\n",
    "    print(requests.post(url=f\"{function_address}/v2/models/{model}/infer\", data=data).json())"
   ]
  },
  {
   "cell_type": "code",
   "execution_count": null,
   "metadata": {},
   "outputs": [],
   "source": []
  }
 ],
 "metadata": {
  "kernelspec": {
   "display_name": "Python [conda env:root] *",
   "language": "python",
   "name": "conda-root-py"
  },
  "language_info": {
   "codemirror_mode": {
    "name": "ipython",
    "version": 3
   },
   "file_extension": ".py",
   "mimetype": "text/x-python",
   "name": "python",
   "nbconvert_exporter": "python",
   "pygments_lexer": "ipython3",
   "version": "3.7.6"
  }
 },
 "nbformat": 4,
 "nbformat_minor": 4
}
