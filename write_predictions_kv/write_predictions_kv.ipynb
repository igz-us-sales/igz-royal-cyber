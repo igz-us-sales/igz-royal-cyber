{
 "cells": [
  {
   "cell_type": "code",
   "execution_count": 1,
   "metadata": {},
   "outputs": [],
   "source": [
    "import pandas as pd\n",
    "import v3io.dataplane"
   ]
  },
  {
   "cell_type": "markdown",
   "metadata": {},
   "source": [
    "### Docs\n",
    "- https://github.com/v3io/v3io-py#accessing-key-values-nosql"
   ]
  },
  {
   "cell_type": "markdown",
   "metadata": {},
   "source": [
    "### Make \"Prediction\""
   ]
  },
  {
   "cell_type": "code",
   "execution_count": 2,
   "metadata": {},
   "outputs": [],
   "source": [
    "pred = {\"class\" : 0, \"proba\" : 0.9245}"
   ]
  },
  {
   "cell_type": "markdown",
   "metadata": {},
   "source": [
    "### Write to KV Table\n",
    "Note that you will need to provide a unique key when writing. This is for fast retrieval."
   ]
  },
  {
   "cell_type": "code",
   "execution_count": 3,
   "metadata": {},
   "outputs": [],
   "source": [
    "v3io_client = v3io.dataplane.Client()"
   ]
  },
  {
   "cell_type": "code",
   "execution_count": 4,
   "metadata": {},
   "outputs": [
    {
     "data": {
      "text/plain": [
       "<v3io.dataplane.response.Response at 0x7fbb78929a90>"
      ]
     },
     "execution_count": 4,
     "metadata": {},
     "output_type": "execute_result"
    }
   ],
   "source": [
    "v3io_client.kv.put(container='bigdata', table_path='/my-predictions', key=\"one\", attributes=pred)"
   ]
  },
  {
   "cell_type": "code",
   "execution_count": 5,
   "metadata": {},
   "outputs": [
    {
     "data": {
      "text/plain": [
       "<v3io.dataplane.response.Response at 0x7fbb78933310>"
      ]
     },
     "execution_count": 5,
     "metadata": {},
     "output_type": "execute_result"
    }
   ],
   "source": [
    "v3io_client.kv.put(container='bigdata', table_path='/my-predictions', key=\"two\", attributes=pred)"
   ]
  },
  {
   "cell_type": "code",
   "execution_count": 6,
   "metadata": {},
   "outputs": [
    {
     "data": {
      "text/plain": [
       "<v3io.dataplane.response.Response at 0x7fbb789489d0>"
      ]
     },
     "execution_count": 6,
     "metadata": {},
     "output_type": "execute_result"
    }
   ],
   "source": [
    "v3io_client.kv.put(container='bigdata', table_path='/my-predictions', key=\"three\", attributes=pred)"
   ]
  },
  {
   "cell_type": "markdown",
   "metadata": {},
   "source": [
    "### Read Entire KV Table"
   ]
  },
  {
   "cell_type": "code",
   "execution_count": 7,
   "metadata": {},
   "outputs": [
    {
     "name": "stdout",
     "output_type": "stream",
     "text": [
      "{'__name': 'three', 'class': 0, 'proba': 0.9245}\n",
      "{'__name': 'two', 'class': 0, 'proba': 0.9245}\n",
      "{'__name': 'one', 'class': 0, 'proba': 0.9245}\n"
     ]
    }
   ],
   "source": [
    "items_cursor = v3io_client.kv.new_cursor(container='bigdata',\n",
    "                                         table_path='/my-predictions')\n",
    "\n",
    "for item in items_cursor.all():\n",
    "    print(item)"
   ]
  },
  {
   "cell_type": "markdown",
   "metadata": {},
   "source": [
    "### Read Specific Record"
   ]
  },
  {
   "cell_type": "code",
   "execution_count": 8,
   "metadata": {},
   "outputs": [
    {
     "name": "stdout",
     "output_type": "stream",
     "text": [
      "{'class': 0, 'proba': 0.9245}\n"
     ]
    }
   ],
   "source": [
    "response = v3io_client.kv.get(container='bigdata',\n",
    "                              table_path='/my-predictions',\n",
    "                              key='two')\n",
    "\n",
    "print(response.output.item)"
   ]
  },
  {
   "cell_type": "markdown",
   "metadata": {},
   "source": [
    "### View KV table in filesystem"
   ]
  },
  {
   "cell_type": "code",
   "execution_count": 9,
   "metadata": {},
   "outputs": [
    {
     "name": "stdout",
     "output_type": "stream",
     "text": [
      "total 0\n",
      "-rw-rw-r-- 1 52 staff 0 Dec 14 21:50 one\n",
      "-rw-rw-r-- 1 52 staff 0 Dec 14 21:50 three\n",
      "-rw-rw-r-- 1 52 staff 0 Dec 14 21:50 two\n"
     ]
    }
   ],
   "source": [
    "!ls -la /v3io/bigdata/my-predictions"
   ]
  },
  {
   "cell_type": "markdown",
   "metadata": {},
   "source": [
    "### Clean Up"
   ]
  },
  {
   "cell_type": "code",
   "execution_count": 10,
   "metadata": {},
   "outputs": [
    {
     "name": "stdout",
     "output_type": "stream",
     "text": [
      "2021-12-14 21:50:23,252 INFO slf_4j.Slf4jLogger: Slf4jLogger started\n",
      "2021-12-14 21:50:23,898 INFO Configuration.deprecation: io.bytes.per.checksum is deprecated. Instead, use dfs.bytes-per-checksum\n",
      "Deleted v3io://bigdata/my-predictions\n"
     ]
    }
   ],
   "source": [
    "# Use HDFS for faster deletion on large tables\n",
    "!hdfs dfs -rm -f -r v3io://bigdata/my-predictions"
   ]
  },
  {
   "cell_type": "code",
   "execution_count": 11,
   "metadata": {},
   "outputs": [],
   "source": [
    "# Unix delete fine for small tables\n",
    "!rm -rf /v3io/bigdata/my-predictions"
   ]
  }
 ],
 "metadata": {
  "kernelspec": {
   "display_name": "Python [conda env:root] *",
   "language": "python",
   "name": "conda-root-py"
  },
  "language_info": {
   "codemirror_mode": {
    "name": "ipython",
    "version": 3
   },
   "file_extension": ".py",
   "mimetype": "text/x-python",
   "name": "python",
   "nbconvert_exporter": "python",
   "pygments_lexer": "ipython3",
   "version": "3.7.6"
  }
 },
 "nbformat": 4,
 "nbformat_minor": 4
}
